{
 "cells": [
  {
   "cell_type": "markdown",
   "metadata": {},
   "source": [
    "### Rigid Body Dynamics\n",
    "\n",
    "This problem will guide you to implement a basic physical simulator that simulates the motion of rigid bodies.\n",
    "\n",
    "The tutorial starting from https://www.toptal.com/game/video-game-physics-part-i-an-introduction-to-rigid-body-dynamics is a perfect guide to help you understand what happens in the 2D rigid world. Now you need to implement a modified version in python.\n",
    "\n",
    "#### Kinematics\n",
    "We describe the kinematic state of a single object with a three-tuple $q=(x, y, \\theta)$ where $(x, y)$ is the 2D coordinate of the object's center of mass and $\\theta$ is its rotation. We assume each rigid body has a convex shape for simplicity.\n",
    "\n",
    "We have provided you the trajectories of a rigid body, e.g., the state at each time step, and its geometry at time step $0$, which is described by the vertex array of its convex hull, you need to generate a video for you to visualize the results.  \n",
    "\n",
    "Finish the draw polygon function in the code. You will see the motion of a triangle and a box."
   ]
  },
  {
   "cell_type": "code",
   "execution_count": null,
   "metadata": {},
   "outputs": [],
   "source": [
    "%load_ext autoreload\n",
    "%autoreload 2\n",
    "\n",
    "import numpy as np\n",
    "from rigid_body import RigidBody, plot_trajectoreis, animate\n",
    "    \n",
    "\n",
    "objects = [RigidBody([(-0.3, -0.3), (0.5, 0.3), (-0.3, 0.8)], 'r'), \n",
    "           RigidBody([(-0.2, -0.2), (-0.2, 0.2), (0.2, 0.2), (0.2, -0.2)], 'g')]\n",
    "n = len(objects)\n",
    "cur = np.array([[-0.5, 0., 0.], [0.5, 0., 0.]])\n",
    "\n",
    "next =np.random.random(size=(n, 3)) * 2  - 1\n",
    "next[:, 2] *= np.pi\n",
    "trajs = []\n",
    "for j in range(10):\n",
    "    trajs.append((next - cur) *(j+1)/10 + cur)\n",
    "\n",
    "\n",
    "images = plot_trajectoreis(objects, trajs)\n",
    "animate(images)"
   ]
  },
  {
   "cell_type": "markdown",
   "metadata": {},
   "source": [
    "#### Single Object Dynamics \n",
    "Now you need finish the physics model for single objects. In addition to the kinematic state $q$, we also have three dimension $\\dot q$ to describe its velocity. Let $s=(q,\\dot q)$ be a six dimension tuple, You need complete the function `dynamics(s, w, h)` that takes the current state $s$, wrench $w=(f_x, f_y, \\tau)$ and time step $h$ as input, outputs the rigid body states at the next time steps. Note that you need to use the function `get_wrench` and the code below to compute the wrench that the object receive in the world frame."
   ]
  },
  {
   "cell_type": "markdown",
   "metadata": {},
   "source": []
  },
  {
   "cell_type": "code",
   "execution_count": null,
   "metadata": {},
   "outputs": [],
   "source": [
    "objects = [RigidBody([(-0.2, -0.2), (-0.2, 0.2), (0.2, 0.2), (0.2, -0.2)], 'r', mass=100, inertia=10), \n",
    "           RigidBody([(-0.2, -0.2), (-0.2, 0.2), (0.2, 0.2), (0.2, -0.2)], 'g', mass=100, inertia=10)]\n",
    "\n",
    "objects[0].set_state([-0.5, 0., 0., 0., 0., 0.])\n",
    "objects[1].set_state([0.5, 0.0, 0., 0., 0., 0.])\n",
    "\n",
    "h = 0.1\n",
    "trajs = []\n",
    "v_theta = []\n",
    "for i in range(1000):\n",
    "    # add gravity to the first objects\n",
    "    objects[0].apply_wrench(objects[0].state[:2], [0, -10])\n",
    "    objects[1].apply_wrench(objects[1].object2world([1, 1]), [0, -10])\n",
    "    trajs.append([i.step(h) for i in objects])\n",
    "    v_theta.append(objects[1].get_state()[2])\n",
    "\n",
    "images = plot_trajectoreis(objects, trajs, width=4)\n",
    "animate(images)"
   ]
  },
  {
   "cell_type": "markdown",
   "metadata": {},
   "source": [
    "#### Multi-object Dynamics Without Friction\n",
    "Now we start consider interactions between objects. The basic idea is that once two objects collides/contacts, there must be a force at the contact points to separate them so that they do not penetrate with each other.\n",
    "Before finding the force to separate them, we need first find all collisions."
   ]
  },
  {
   "cell_type": "markdown",
   "metadata": {},
   "source": [
    "##### Collision Detection\n",
    "\n",
    "The basic approach to detect collisions is the EPA algorithm which will return the contact points, together with the penetration depth once it happens, and the normal to separate the two shapes.\n",
    "\n",
    "See https://www.toptal.com/game/video-game-physics-part-ii-collision-detection-for-solid-objects and https://dyn4j.org/2010/05/epa-expanding-polytope-algorithm/ for details."
   ]
  },
  {
   "cell_type": "code",
   "execution_count": null,
   "metadata": {},
   "outputs": [],
   "source": [
    "from rigid_body import GJK, plot_contacts\n",
    "\n",
    "objects = [RigidBody([(-0.1, -0.1), (-0.1, 0.1), (0.1, 0.1)], 'r', mass=1000, inertia=10), \n",
    "           RigidBody([(-0.2, -0.2), (-0.2, 0.2), (0.2, 0.2), (0.2, -0.2)], 'g', mass=1000, inertia=10)]\n",
    "objects[0].set_state([0., 0., 0.])\n",
    "objects[1].set_state([0., 0.3, np.pi/4])\n",
    "plot_contacts(objects, GJK(objects[0].get_shape(), objects[1].get_shape(), plot=False))\n",
    "\n",
    "\n",
    "objects = [RigidBody([(-0.1, -0.1), (-0.1, 0.1), (0.1, 0.1), (0.1, -0.1)], 'r', mass=1000, inertia=10), \n",
    "           RigidBody([(-0.2, -0.2), (-0.2, 0.2), (0.2, 0.2), (0.2, -0.2)], 'g', mass=1000, inertia=10)]\n",
    "objects[0].set_state([0., 0., 0.])\n",
    "objects[1].set_state([0., 0.3, 0.])\n",
    "plot_contacts(objects, GJK(objects[0].get_shape(), objects[1].get_shape(), plot=False))\n",
    "\n",
    "\n",
    "objects = [RigidBody([(-0.1, -0.1), (-0.1, 0.1), (0.1, 0.1), (0.1, -0.1)], 'r', mass=1000, inertia=10), \n",
    "           RigidBody([(-0.2, -0.2), (-0.2, 0.2), (0.2, 0.2), (0.2, -0.2)], 'g', mass=1000, inertia=10)]\n",
    "objects[0].set_state([0., 0., 0.])\n",
    "objects[1].set_state([0., 0.3, 0.])\n",
    "plot_contacts(objects, GJK(objects[1].get_shape(), objects[0].get_shape(), plot=False))\n"
   ]
  },
  {
   "cell_type": "markdown",
   "metadata": {},
   "source": [
    "\n",
    "##### Linear Complementray Problem \n",
    "\n",
    "Now you have a way to find all contacts, their directions and penetration distances, you need solve the contact force to separate them out. If we ignore the quadratic friction cone, this is the famous Linear Complementary Problem (https://en.wikipedia.org/wiki/Linear_complementarity_problem).\n",
    "\n",
    "Please formulate it as a LCP and solve it with either Lemake Algorithm or convex optimization.\n",
    "\n",
    "You now need complete the following function `solve_contacts(objects, contacts, h)` to compute the contact force under the external wrench. Note the wrenches are stored in each object class.\n",
    "\n",
    "Run the following code to support block stacking under the gravity force. Besides, test your code with a newton ball-like experiments (where every adjecant ball contacts with each other initially), show what you find."
   ]
  },
  {
   "cell_type": "code",
   "execution_count": null,
   "metadata": {},
   "outputs": [],
   "source": [
    "objects = [\n",
    "    RigidBody([(-0.1, -0.1), (-0.1, 0.1), (0.1, 0.1), (0.1, -0.1)], 'r', mass=1, inertia=10), \n",
    "    RigidBody([(-0.2, -0.2), (-0.2, 0.2), (0.2, 0.2), (0.2, -0.2)], 'g', mass=10, inertia=10),\n",
    "    RigidBody([(-0.3, -0.3), (-0.3, 0.3), (0.3, 0.3), (0.3, -0.3)], 'b', mass=100, inertia=10),\n",
    "    RigidBody([(-10, -0.1), (-10, 0.1), (10, 0.1), (10, -0.1)], 'y', mass=1e9, inertia=1e9), \n",
    "]\n",
    "\n",
    "objects[0].set_state([0., 0., 0., 0., 0., 0.])\n",
    "objects[1].set_state([0., 0.3, 0., 0., 0., 0.])\n",
    "objects[2].set_state([0., 0.8, 0., 0., 0., 0.])\n",
    "objects[3].set_state([0., -0.2, 0., 0., 0., 0.])\n",
    "\n",
    "\n",
    "def find_contacts(objects):\n",
    "    contacts = []\n",
    "    for i in range(len(objects)):\n",
    "        for j in range(i+1, len(objects)):\n",
    "            contacts += GJK(objects[i].get_shape(), objects[j].get_shape(), plot=False)\n",
    "    return contacts\n",
    "\n",
    "plot_contacts(objects, find_contacts(objects))\n",
    "\n",
    "\n",
    "from rigid_body import LCP\n",
    "trajs = []\n",
    "h = 0.1\n",
    "for i in range(100):\n",
    "    for j in range(0, 3):\n",
    "        objects[j].apply_wrench(objects[j].state[:2], [0, -10 * objects[j].mass])\n",
    "    LCP(objects, find_contacts(objects), h)\n",
    "    trajs.append([j.step(h) for j in objects])\n",
    "\n",
    "animate(plot_trajectoreis(objects, trajs))"
   ]
  }
 ],
 "metadata": {
  "interpreter": {
   "hash": "341759b73095ff04a81eea761da95edf1f6c3c823831226adf9c9f44e7b5b37c"
  },
  "kernelspec": {
   "display_name": "Python 3.8.12",
   "language": "python",
   "name": "python3"
  },
  "language_info": {
   "codemirror_mode": {
    "name": "ipython",
    "version": 3
   },
   "file_extension": ".py",
   "mimetype": "text/x-python",
   "name": "python",
   "nbconvert_exporter": "python",
   "pygments_lexer": "ipython3",
   "version": "3.8.12"
  },
  "orig_nbformat": 4
 },
 "nbformat": 4,
 "nbformat_minor": 2
}
