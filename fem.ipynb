{
 "cells": [
  {
   "cell_type": "markdown",
   "metadata": {},
   "source": [
    "# Finite Element Method\n",
    "\n",
    "This problem requires you to implement a 3D FEM algorithm for cloth simulation.\n",
    "\n",
    "\n",
    "time[https://viterbi-web.usc.edu/~jbarbic/femdefo/sifakis-courseNotes-TheoryAndDiscretization.pdf]"
   ]
  }
 ],
 "metadata": {
  "interpreter": {
   "hash": "341759b73095ff04a81eea761da95edf1f6c3c823831226adf9c9f44e7b5b37c"
  },
  "kernelspec": {
   "display_name": "Python 3.8.12",
   "language": "python",
   "name": "python3"
  },
  "language_info": {
   "name": "python",
   "version": "3.8.12"
  },
  "orig_nbformat": 4
 },
 "nbformat": 4,
 "nbformat_minor": 2
}
